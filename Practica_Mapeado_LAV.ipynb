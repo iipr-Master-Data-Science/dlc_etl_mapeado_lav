{
 "cells": [
  {
   "cell_type": "markdown",
   "metadata": {},
   "source": [
    "# Práctica ETL - Mapeado de datos LAV\n",
    "\n",
    "- **Master in Data Science - UC, UIMP, CSIC.**\n",
    "- **Subject:** Data Life Cycle.\n",
    "- **Author:** Ignacio Iker Prado Rujas."
   ]
  },
  {
   "cell_type": "markdown",
   "metadata": {},
   "source": [
    "## Generación y preparación de las fuentes de datos"
   ]
  },
  {
   "cell_type": "markdown",
   "metadata": {},
   "source": [
    "Cargamos las librerías relevantes:"
   ]
  },
  {
   "cell_type": "code",
   "execution_count": 1,
   "metadata": {},
   "outputs": [],
   "source": [
    "import sqlite3\n",
    "import json\n",
    "from faker import Faker"
   ]
  },
  {
   "cell_type": "markdown",
   "metadata": {},
   "source": [
    "Creamos un Faker para cada una de las fuentes, de acuerdo a su país de procedencia:"
   ]
  },
  {
   "cell_type": "code",
   "execution_count": 2,
   "metadata": {},
   "outputs": [],
   "source": [
    "fake_UK = Faker('en_UK')\n",
    "fake_ES = Faker('es_ES')\n",
    "#fake_US = Faker('en_US')"
   ]
  },
  {
   "cell_type": "markdown",
   "metadata": {},
   "source": [
    "### Librería británica"
   ]
  },
  {
   "cell_type": "markdown",
   "metadata": {},
   "source": [
    "Generamos datos para la librería británica:"
   ]
  },
  {
   "cell_type": "code",
   "execution_count": 3,
   "metadata": {},
   "outputs": [],
   "source": [
    "!rm bookstore_UK.db"
   ]
  },
  {
   "cell_type": "code",
   "execution_count": 4,
   "metadata": {},
   "outputs": [
    {
     "name": "stdout",
     "output_type": "stream",
     "text": [
      "(0, 'Managed national projection', 'Hannah Lane', 'Ellis, Holmes and Harrison', 1971, '£31', '978-0-15-448990-6')\n",
      "(1, 'Progressive scalable budgetary management', 'Ms. Carol Woods', 'Harris, Swift and Kent', 1990, '£19', '978-0-332-04962-5')\n",
      "(2, 'Balanced leadingedge utilization', 'Mr. Neil Campbell', 'Martin, Carter and Cooke', 1972, '£11', '978-1-908737-80-9')\n"
     ]
    }
   ],
   "source": [
    "conn = sqlite3.connect('bookstore_UK.db')\n",
    "c = conn.cursor()\n",
    "\n",
    "# Creamos la tabla Book\n",
    "c.execute('''CREATE TABLE Book\n",
    "             (idBook integer primary key,\n",
    "              title text,\n",
    "              authors text, \n",
    "              publisher text, \n",
    "              year integer,\n",
    "              price text,\n",
    "              ISBN text)''')\n",
    "\n",
    "# Generamos valores con Faker\n",
    "fake_vals = []\n",
    "for i in range(100):\n",
    "    idBook = i\n",
    "    title = fake_UK.catch_phrase()\n",
    "    authors = fake_UK.name()\n",
    "    publisher = fake_UK.company()\n",
    "    year = fake_UK.year()\n",
    "    price = '£' + str(fake_UK.random_int(min=1, max=50))\n",
    "    ISBN = fake_UK.isbn13()\n",
    "    fake_vals.append([idBook, title, authors, publisher, year, price, ISBN])\n",
    "\n",
    "# Los introducimos en la base de datos\n",
    "c.executemany('''INSERT INTO Book (idBook, title, authors, publisher, year, price, ISBN)\n",
    "                 VALUES (?, ?, ?, ?, ?, ?, ?)''', fake_vals)\n",
    "\n",
    "# Miramos los primeros valores insertados\n",
    "c.execute('SELECT * FROM Book where idBook < 3;')\n",
    "for row in c.fetchall():\n",
    "    print(row)\n",
    "\n",
    "conn.commit()\n",
    "conn.close()"
   ]
  },
  {
   "cell_type": "markdown",
   "metadata": {},
   "source": [
    "### Librería española"
   ]
  },
  {
   "cell_type": "markdown",
   "metadata": {},
   "source": [
    "Ahora para la librería española:"
   ]
  },
  {
   "cell_type": "code",
   "execution_count": 5,
   "metadata": {},
   "outputs": [],
   "source": [
    "!rm bookstore_ES.db"
   ]
  },
  {
   "cell_type": "code",
   "execution_count": 6,
   "metadata": {},
   "outputs": [
    {
     "name": "stdout",
     "output_type": "stream",
     "text": [
      "Personas:\n",
      "(0, 'Sara', 'Ávila', 'Aguilar', '2013-09-19')\n",
      "(1, 'Josefa', 'Córdoba-Cazorla', 'España-Llabrés', '1891-04-13')\n",
      "(2, 'Gema', 'Cabañas', 'Esparza', '1894-11-29')\n",
      "Publicaciones:\n",
      "(0, 'Robust upward-trending database', 'Sancho Inc', 'ml', '1992-04-06', '50€')\n",
      "(1, 'Reverse-engineered client-server data-warehouse', 'Méndez, Gonzalo and Rosell', 'cv', '1915-10-20', '28€')\n",
      "(2, 'Advanced actuating open architecture', 'Esparza, Luján and Luján', 'fr', '1941-11-02', '28€')\n",
      "Roles:\n",
      "(0, 'molestias')\n",
      "(1, 'cum')\n",
      "(2, 'tempora')\n",
      "Publicaciones de personas:\n",
      "(88, 8, 23)\n"
     ]
    }
   ],
   "source": [
    "conn = sqlite3.connect('bookstore_ES.db')\n",
    "c = conn.cursor()\n",
    "\n",
    "# Creamos la tabla Persona\n",
    "c.execute('''CREATE TABLE Persona\n",
    "             (idPersona integer primary key,\n",
    "              Nombre text,\n",
    "              Apellido1 text, \n",
    "              Apellido2 text, \n",
    "              FechaNacimiento date)''')\n",
    "\n",
    "# Creamos la tabla Publicacion\n",
    "c.execute('''CREATE TABLE Publicacion\n",
    "             (idPublicacion integer primary key,\n",
    "              Titulo text,\n",
    "              Editorial text, \n",
    "              Lengua text, \n",
    "              FechaPublicacion date,\n",
    "              Precio float)''')\n",
    "\n",
    "# Creamos la tabla Persona_has_Pubicacion\n",
    "c.execute('''CREATE TABLE Persona_has_Publicacion\n",
    "             (Persona_idPersona integer,\n",
    "              Publicacion_idPublicacion integer,\n",
    "              Rol_idRol integer, \n",
    "              primary key(Persona_idPersona, \n",
    "                          Publicacion_idPublicacion))''')\n",
    "\n",
    "# Creamos la tabla Rol\n",
    "c.execute('''CREATE TABLE Rol\n",
    "             (idRol integer primary key,\n",
    "              rol text)''')\n",
    "\n",
    "# Generamos valores con Faker\n",
    "\n",
    "# Para Persona\n",
    "n = 200\n",
    "fake_vals = []\n",
    "for i in range(n):\n",
    "    idPersona = i\n",
    "    Nombre = fake_ES.name().split()[0]\n",
    "    Apellido1 = fake_ES.name().split()[1]\n",
    "    aux = fake_ES.name().split()[1]\n",
    "    Apellido2 = fake_ES.name().split()[1] if aux in ['el', 'del', 'de'] else aux\n",
    "    FechaNacimiento = str(fake_ES.date_between(end_date='today', start_date='-150y'))\n",
    "    fake_vals.append([idPersona, Nombre, Apellido1, Apellido2, FechaNacimiento])\n",
    "    \n",
    "c.executemany('''INSERT INTO Persona (idPersona, Nombre, Apellido1, Apellido2, FechaNacimiento)\n",
    "                 VALUES (?, ?, ?, ?, ?)''', fake_vals)\n",
    "\n",
    "# Para Publicacion\n",
    "\n",
    "fake_vals = []\n",
    "m = 300\n",
    "for i in range(m):\n",
    "    idPublicacion = i\n",
    "    Titulo = fake_ES.catch_phrase()\n",
    "    Editorial = fake_ES.company()\n",
    "    Lengua = fake_ES.language_code()\n",
    "    FechaPublicacion = str(fake_ES.date_between(end_date='today', start_date='-120y'))\n",
    "    Precio = str(fake_UK.random_int(min=1, max=50)) + '€'\n",
    "    fake_vals.append([idPublicacion, Titulo, Editorial, Lengua, FechaPublicacion, Precio])\n",
    "    \n",
    "c.executemany('''INSERT INTO Publicacion (idPublicacion, Titulo, Editorial, Lengua, FechaPublicacion, Precio)\n",
    "                 VALUES (?, ?, ?, ?, ?, ?)''', fake_vals)\n",
    "\n",
    "# Para Rol\n",
    "r = 30\n",
    "fake_vals = []\n",
    "for i in range(r):\n",
    "    idRol = i\n",
    "    Rol = fake_ES.word()\n",
    "    fake_vals.append([idRol, Rol])\n",
    "    \n",
    "c.executemany('''INSERT INTO Rol (idRol, Rol)\n",
    "                 VALUES (?, ?)''', fake_vals)\n",
    "\n",
    "# Para Persona_has_Publicacion\n",
    "fake_vals = []\n",
    "set_aux = set()\n",
    "for i in range(500):\n",
    "    Persona_idPersona = fake_ES.random_int(min=0, max=n-1)\n",
    "    Publicacion_idPublicacion = fake_ES.random_int(min=0, max=m-1)\n",
    "    while (Persona_idPersona, Publicacion_idPublicacion) in set_aux:\n",
    "        Persona_idPersona = fake_ES.random_int(min=0, max=n-1)\n",
    "        Publicacion_idPublicacion = fake_ES.random_int(min=0, max=m-1)\n",
    "    else:\n",
    "        set_aux.add((Persona_idPersona, Publicacion_idPublicacion))\n",
    "    Rol_idRol = fake_ES.random_int(min=0, max=r-1)\n",
    "    fake_vals.append([Persona_idPersona, Publicacion_idPublicacion, Rol_idRol])\n",
    "    \n",
    "c.executemany('''INSERT INTO Persona_has_Publicacion (Persona_idPersona, Publicacion_idPublicacion, Rol_idRol)\n",
    "                 VALUES (?, ?, ?)''', fake_vals)\n",
    "\n",
    "# Miramos los primeros valores insertados\n",
    "c.execute('SELECT * FROM Persona where idPersona < 3;')\n",
    "print('Personas:')\n",
    "for row in c.fetchall():\n",
    "    print(row)\n",
    "c.execute('SELECT * FROM Publicacion where idPublicacion < 3;')\n",
    "print('Publicaciones:')\n",
    "for row in c.fetchall():\n",
    "    print(row)\n",
    "c.execute('SELECT * FROM Rol where idRol < 3;')\n",
    "print('Roles:')\n",
    "for row in c.fetchall():\n",
    "    print(row)\n",
    "c.execute('SELECT * FROM Persona_has_Publicacion where Publicacion_idPublicacion in (3, 8);')\n",
    "print('Publicaciones de personas:')\n",
    "for row in c.fetchall():\n",
    "    print(row)\n",
    "\n",
    "conn.commit()\n",
    "conn.close()"
   ]
  },
  {
   "cell_type": "markdown",
   "metadata": {},
   "source": [
    "### Librería americana"
   ]
  },
  {
   "cell_type": "markdown",
   "metadata": {},
   "source": [
    "Probamos a cargar los datos de la librería americana:  \n",
    "**Nota:** Para poder parsear el fichero de manera adecuada, fue necesario introducir comas entre cada elemento del `json`."
   ]
  },
  {
   "cell_type": "code",
   "execution_count": 7,
   "metadata": {},
   "outputs": [
    {
     "data": {
      "text/plain": [
       "{'index': 0,\n",
       " 'title': 'National kind probably later across against require can.',\n",
       " 'last_name': 'Hall',\n",
       " 'first_name': 'Debbie',\n",
       " 'publisher': 'Stewart Group',\n",
       " 'ISBN': '978-0-88280-857-4',\n",
       " 'summary': 'Exist change affect still consumer professional win audience. Responsibility generation picture.\\nStop team recently administration onto. Oil do their choice story work.\\nMost morning moment. Tell price grow decision technology one. Become people discussion machine than.\\nAllow fill direction safe physical main life. Hand town talk enter.\\nOut fast whether during simply. Option next performance sea PM.\\nParticularly according save blue. Road expect country before season sea.'}"
      ]
     },
     "execution_count": 7,
     "metadata": {},
     "output_type": "execute_result"
    }
   ],
   "source": [
    "with open('USA_books.json', encoding='utf-8') as f:\n",
    "    data = json.load(f)\n",
    "eval(str(data[0]))"
   ]
  },
  {
   "cell_type": "markdown",
   "metadata": {},
   "source": [
    "## Creación de la base de datos global"
   ]
  },
  {
   "cell_type": "code",
   "execution_count": 8,
   "metadata": {},
   "outputs": [],
   "source": [
    "!rm bookstore.db"
   ]
  },
  {
   "cell_type": "code",
   "execution_count": 9,
   "metadata": {},
   "outputs": [],
   "source": [
    "conn = sqlite3.connect('bookstore.db')\n",
    "c = conn.cursor()\n",
    "\n",
    "# Creamos la tabla Autor\n",
    "c.execute('''CREATE TABLE Autor\n",
    "             (idAutor integer primary key,\n",
    "              nombre text)''')\n",
    "\n",
    "# Creamos la tabla Libro\n",
    "c.execute('''CREATE TABLE Libro\n",
    "             (idLibro integer primary key,\n",
    "              titulo text,\n",
    "              editorial text, \n",
    "              fecha date,\n",
    "              isbn)''')\n",
    "\n",
    "# Creamos la tabla Autor_has_Libro\n",
    "c.execute('''CREATE TABLE Autor_has_Libro\n",
    "             (Autor_idAutor integer,\n",
    "              Libro_idLibro integer,\n",
    "              primary key(Autor_idAutor, \n",
    "                          Libro_idLibro))''')\n",
    "\n",
    "conn.commit()\n",
    "conn.close()"
   ]
  },
  {
   "cell_type": "markdown",
   "metadata": {},
   "source": [
    "## Proceso ETL"
   ]
  },
  {
   "cell_type": "markdown",
   "metadata": {},
   "source": [
    "### Librería británica"
   ]
  },
  {
   "cell_type": "markdown",
   "metadata": {},
   "source": [
    "Para la base de datos británica:"
   ]
  },
  {
   "cell_type": "code",
   "execution_count": 10,
   "metadata": {},
   "outputs": [],
   "source": [
    "def process_UK(source, target):\n",
    "    \"\"\"Process British library data\"\"\"\n",
    "    # Nos conectamos a las bases de datos\n",
    "    conn_UK = sqlite3.connect(source)\n",
    "    c_UK = conn_UK.cursor()\n",
    "    conn = sqlite3.connect(target)\n",
    "    c = conn.cursor()\n",
    "    # Extraemos el último idAutor e idLibro\n",
    "    idAutor = c.execute('select max(idAutor) from Autor').fetchall()[0][0]\n",
    "    idAutor = 0 if idAutor is None else idAutor + 1\n",
    "    idLibro = c.execute('select max(idLibro) from Libro').fetchall()[0][0]\n",
    "    idLibro = 0 if idLibro is None else idLibro + 1\n",
    "    # Y transferimos cada registro\n",
    "    c_UK.execute('SELECT * from Book;')\n",
    "    for book in c_UK.fetchall():\n",
    "        # Extraemos la información útil\n",
    "        _, title, authors, publisher, year, _, ISBN = book\n",
    "        # Y la guardamos\n",
    "        c.execute('INSERT INTO Autor (idAutor, nombre) VALUES (?, ?)', \n",
    "                   (idAutor, authors))\n",
    "        c.execute('INSERT INTO Libro (idLibro, titulo, editorial, fecha, isbn) VALUES (?, ?, ?, ?, ?)',\n",
    "                   (idLibro, title, publisher, str(year)+'-01-01', ISBN))\n",
    "        c.execute('INSERT INTO Autor_has_Libro (Autor_idAutor, Libro_idLibro) VALUES (?, ?)',\n",
    "                   (idAutor, idLibro))\n",
    "        idAutor += 1\n",
    "        idLibro += 1\n",
    "    # Hacemos commit y cerramos las conexiones\n",
    "    conn.commit()\n",
    "    conn_UK.close()\n",
    "    conn.close()\n",
    "    return\n",
    "\n",
    "process_UK(source='bookstore_UK.db', target='bookstore.db')"
   ]
  },
  {
   "cell_type": "markdown",
   "metadata": {},
   "source": [
    "### Librería española"
   ]
  },
  {
   "cell_type": "markdown",
   "metadata": {},
   "source": [
    "Para la base de datos española:"
   ]
  },
  {
   "cell_type": "code",
   "execution_count": 11,
   "metadata": {},
   "outputs": [],
   "source": [
    "def process_ES(source, target):\n",
    "    \"\"\"Process British library data\"\"\"\n",
    "    # Nos conectamos a las bases de datos\n",
    "    conn_ES = sqlite3.connect(source)\n",
    "    c_ES = conn_ES.cursor()\n",
    "    conn = sqlite3.connect(target)\n",
    "    c = conn.cursor()\n",
    "    # Extraemos el último idAutor e idLibro\n",
    "    idAutor = c.execute('select max(idAutor) from Autor').fetchall()[0][0]\n",
    "    idAutor = 0 if idAutor is None else idAutor + 1\n",
    "    idLibro = c.execute('select max(idLibro) from Libro').fetchall()[0][0]\n",
    "    idLibro = 0 if idLibro is None else idLibro + 1\n",
    "    # Definimos diccionarios auxiliares\n",
    "    autor_d, libro_d = {}, {}\n",
    "    # Transferimos Personas\n",
    "    c_ES.execute('SELECT * from Persona;')\n",
    "    for persona in c_ES.fetchall():\n",
    "        # Extraemos personas\n",
    "        idPersona, Nombre, Apellido1, Apellido2, _ = persona\n",
    "        # Y la guardamos\n",
    "        c.execute('INSERT INTO Autor (idAutor, nombre) VALUES (?, ?)', \n",
    "                  (idAutor, Nombre + ' ' + Apellido1 + ' ' + Apellido2))\n",
    "        # Guardamos en un diccionario: idAutorSource -> idAutorTarget\n",
    "        autor_d[idPersona] = idAutor\n",
    "        idAutor += 1\n",
    "    # Transferimos publicaciones\n",
    "    c_ES.execute('SELECT * from Publicacion;')\n",
    "    for publicacion in c_ES.fetchall():\n",
    "        # Extraemos ahora Publicaciones\n",
    "        idPublicacion, Titulo, Editorial, _, FechaPublicacion, _ = publicacion\n",
    "        # Y la guardamos\n",
    "        c.execute('INSERT INTO Libro (idLibro, titulo, editorial, fecha, isbn) VALUES (?, ?, ?, ?, ?)',\n",
    "                   (idLibro, Titulo, Editorial, FechaPublicacion, ''))\n",
    "        # Guardamos en un diccionario: idLibroSource -> idLibroTarget\n",
    "        libro_d[idPublicacion] = idLibro\n",
    "        idLibro += 1\n",
    "    # Ahora transferimos la relacion entre autores y obras\n",
    "    c_ES.execute('SELECT * from Persona_has_Publicacion;')\n",
    "    for rel in c_ES.fetchall():\n",
    "        # Extraemos la relación\n",
    "        idPersona, idPublicacion, _ = rel\n",
    "        c.execute('INSERT INTO Autor_has_Libro (Autor_idAutor, Libro_idLibro) VALUES (?, ?)',\n",
    "                   (autor_d[idPersona], libro_d[idPublicacion]))\n",
    "    # Hacemos commit y cerramos las conexiones\n",
    "    conn.commit()\n",
    "    conn_ES.close()\n",
    "    conn.close()\n",
    "    return\n",
    "\n",
    "process_ES(source='bookstore_ES.db', target='bookstore.db')"
   ]
  },
  {
   "cell_type": "markdown",
   "metadata": {},
   "source": [
    "### Librería americana"
   ]
  },
  {
   "cell_type": "markdown",
   "metadata": {},
   "source": [
    "Y por último, para la americana:"
   ]
  },
  {
   "cell_type": "code",
   "execution_count": 12,
   "metadata": {},
   "outputs": [],
   "source": [
    "def process_US(source, target):\n",
    "    \"\"\"Process American library data\"\"\"\n",
    "    # Cargamos los datos y abrimos la conexión a la bd\n",
    "    with open(source, encoding='utf-8') as f:\n",
    "        data = json.load(f)\n",
    "    conn = sqlite3.connect(target)\n",
    "    c = conn.cursor()\n",
    "    # Extraemos el último idAutor e idLibro\n",
    "    idAutor = c.execute('select max(idAutor) from Autor').fetchall()[0][0]\n",
    "    idAutor = 0 if idAutor is None else idAutor + 1\n",
    "    idLibro = c.execute('select max(idLibro) from Libro').fetchall()[0][0]\n",
    "    idLibro = 0 if idLibro is None else idLibro + 1\n",
    "    # Y transferimos cada registro\n",
    "    for idx in range(len(data)):\n",
    "        # Extraemos la información útil\n",
    "        _, title, last_name, first_name, publisher, ISBN, _ = data[idx].values()\n",
    "        # Y la guardamos\n",
    "        c.execute('INSERT INTO Autor (idAutor, nombre) VALUES (?, ?)', \n",
    "                   (idAutor, first_name + ' ' + last_name))\n",
    "        c.execute('INSERT INTO Libro (idLibro, titulo, editorial, fecha, isbn) VALUES (?, ?, ?, ?, ?)',\n",
    "                   (idLibro, title, publisher, '', ISBN))\n",
    "        c.execute('INSERT INTO Autor_has_Libro (Autor_idAutor, Libro_idLibro) VALUES (?, ?)',\n",
    "                   (idAutor, idLibro))\n",
    "        idAutor += 1\n",
    "        idLibro += 1\n",
    "    # Hacemos commit y cerramos las conexiones\n",
    "    conn.commit()\n",
    "    conn.close()\n",
    "    return\n",
    "\n",
    "process_US(source='USA_books.json', target='bookstore.db')"
   ]
  },
  {
   "cell_type": "markdown",
   "metadata": {},
   "source": [
    "## Comprobación de los datos transferidos"
   ]
  },
  {
   "cell_type": "markdown",
   "metadata": {},
   "source": [
    "Hacemos algunas comprobaciones de consistencia entre las fuentes y la nueva base de datos:"
   ]
  },
  {
   "cell_type": "code",
   "execution_count": 13,
   "metadata": {},
   "outputs": [],
   "source": [
    "# Nos conectamos\n",
    "conn_UK = sqlite3.connect('bookstore_UK.db')\n",
    "c_UK = conn_UK.cursor()\n",
    "conn_ES = sqlite3.connect('bookstore_ES.db')\n",
    "c_ES = conn_ES.cursor()\n",
    "conn = sqlite3.connect('bookstore.db')\n",
    "c = conn.cursor()"
   ]
  },
  {
   "cell_type": "code",
   "execution_count": 14,
   "metadata": {
    "scrolled": false
   },
   "outputs": [
    {
     "name": "stdout",
     "output_type": "stream",
     "text": [
      "UK library data:\n",
      "(51, 'Optional fresh-thinking challenge', 'Damian Bray-Howells', 'Bennett LLC', 2011, '£13', '978-1-938788-33-8')\n",
      "(52, 'Business-focused directional system engine', 'Dr. Francis Ali', 'Martin PLC', 1993, '£8', '978-0-560-99629-6')\n",
      "(53, 'Focused static parallelism', 'Dr. Simon Harvey', 'Lawson, McCarthy and Dawson', 1990, '£21', '978-0-227-49775-3')\n",
      "(54, 'Up-sized client-server service-desk', 'Dr. Maurice Moore', 'Gray, Turner and Davidson', 1978, '£14', '978-1-995886-49-7')\n",
      "\n",
      "\n",
      "Data extracted from target database:\n",
      "(54, 'Up-sized client-server service-desk', 'Gray, Turner and Davidson', '1978-01-01', '978-1-995886-49-7')\n",
      "(54, 54)\n",
      "(54, 'Dr. Maurice Moore')\n"
     ]
    }
   ],
   "source": [
    "# Para la británica\n",
    "print('UK library data:')\n",
    "c_UK.execute('SELECT * FROM Book WHERE idBook > 50 AND idBook < 55;')\n",
    "for row in c_UK.fetchall():\n",
    "    print(row)\n",
    "title = row[1]\n",
    "print('\\n\\nData extracted from target database:')\n",
    "c.execute(\"SELECT * FROM Libro WHERE titulo = '{}'\".format(title))\n",
    "for row in c.fetchall():\n",
    "    print(row)\n",
    "idLibro = row[0]\n",
    "c.execute(\"SELECT * FROM Autor_has_Libro WHERE Libro_idLibro = '{}'\".format(idLibro))\n",
    "for row in c.fetchall():\n",
    "    print(row)\n",
    "idAutor = row[1]\n",
    "c.execute(\"SELECT * FROM Autor WHERE idAutor = '{}'\".format(idAutor))\n",
    "for row in c.fetchall():\n",
    "    print(row)"
   ]
  },
  {
   "cell_type": "code",
   "execution_count": 15,
   "metadata": {
    "scrolled": false
   },
   "outputs": [
    {
     "name": "stdout",
     "output_type": "stream",
     "text": [
      "ES library data:\n",
      "(210, 'Customizable context-sensitive extranet', 'Fonseca Ltd', 'dv', '1979-07-29', '5€')\n",
      "(35, 210, 5)\n",
      "(37, 210, 5)\n",
      "(37, 'Josefa', 'Llobet', 'Isabel', '1965-08-05')\n",
      "\n",
      "\n",
      "Data extracted from target database:\n",
      "(310, 'Customizable context-sensitive extranet', 'Fonseca Ltd', '1979-07-29', '')\n",
      "(135, 310)\n",
      "(137, 310)\n",
      "(137, 'Josefa Llobet Isabel')\n"
     ]
    }
   ],
   "source": [
    "# Para la española\n",
    "print('ES library data:')\n",
    "c_ES.execute('SELECT * FROM Publicacion WHERE idPublicacion = 210;')\n",
    "for row in c_ES.fetchall():\n",
    "    print(row)\n",
    "title = row[1]\n",
    "idPub = row[0]\n",
    "c_ES.execute(\"SELECT * FROM Persona_has_Publicacion WHERE Publicacion_idPublicacion = '{}';\".format(idPub))\n",
    "for row in c_ES.fetchall():\n",
    "    print(row)\n",
    "idPer = row[0]\n",
    "c_ES.execute(\"SELECT * FROM Persona WHERE idPersona = '{}';\".format(idPer))\n",
    "for row in c_ES.fetchall():\n",
    "    print(row)\n",
    "print('\\n\\nData extracted from target database:')\n",
    "c.execute(\"SELECT * FROM Libro WHERE titulo = '{}'\".format(title))\n",
    "for row in c.fetchall():\n",
    "    print(row)\n",
    "idLibro = row[0]\n",
    "c.execute(\"SELECT * FROM Autor_has_Libro WHERE Libro_idLibro = '{}'\".format(idLibro))\n",
    "for row in c.fetchall():\n",
    "    print(row)\n",
    "idAutor = row[0]\n",
    "c.execute(\"SELECT * FROM Autor WHERE idAutor = '{}'\".format(idAutor))\n",
    "for row in c.fetchall():\n",
    "    print(row)"
   ]
  },
  {
   "cell_type": "code",
   "execution_count": 16,
   "metadata": {
    "scrolled": false
   },
   "outputs": [
    {
     "name": "stdout",
     "output_type": "stream",
     "text": [
      "US library data:\n",
      "{'index': 33, 'title': 'National community think fall.', 'last_name': 'Thomas', 'first_name': 'Ernest', 'publisher': 'Hernandez and Sons', 'ISBN': '978-0-604-69103-3', 'summary': 'New against defense mouth security medical station receive.\\nStudent wall each process out.\\nThing economy major care town. Two test every protect.\\nSuddenly language protect structure work size these.\\nMan them method process require hot. College every better task week. Alone almost exist important feeling.\\nFirm memory center possible adult. Itself present various image sound. Us add hold fish music.'}\n",
      "\n",
      "\n",
      "Data extracted from target database:\n",
      "(433, 'National community think fall.', 'Hernandez and Sons', '', '978-0-604-69103-3')\n",
      "(333, 433)\n",
      "(333, 'Ernest Thomas')\n"
     ]
    }
   ],
   "source": [
    "# Para la americana\n",
    "print('US library data:')\n",
    "print(data[33])\n",
    "title = data[33]['title']\n",
    "print('\\n\\nData extracted from target database:')\n",
    "c.execute(\"SELECT * FROM Libro WHERE titulo = '{}'\".format(title))\n",
    "for row in c.fetchall():\n",
    "    print(row)\n",
    "idLibro = row[0]\n",
    "c.execute(\"SELECT * FROM Autor_has_Libro WHERE Libro_idLibro = '{}'\".format(idLibro))\n",
    "for row in c.fetchall():\n",
    "    print(row)\n",
    "idAutor = row[0]\n",
    "c.execute(\"SELECT * FROM Autor WHERE idAutor = '{}'\".format(idAutor))\n",
    "for row in c.fetchall():\n",
    "    print(row)"
   ]
  },
  {
   "cell_type": "code",
   "execution_count": 17,
   "metadata": {},
   "outputs": [],
   "source": [
    "# Nos desconectamos\n",
    "conn_UK.close()\n",
    "conn_ES.close()\n",
    "conn.close()"
   ]
  },
  {
   "cell_type": "markdown",
   "metadata": {},
   "source": [
    "## Discusión"
   ]
  },
  {
   "cell_type": "markdown",
   "metadata": {},
   "source": [
    "### Decisiones de mapeo"
   ]
  },
  {
   "cell_type": "markdown",
   "metadata": {},
   "source": [
    "1. **Librería britanica:**\n",
    "  - Perdemos el campo `price`.\n",
    "  - Ya que no sabemos cómo es la estructura del campo `authors` (¿uno o más autores?) lo hemos mapeado directamente a `nombre` en la bd objetivo.\n",
    "  - En cuanto a la fecha, solo partimos de un año, así que en la bd objetivo la fecha la hemos fijado al primer día de enero de ese año.\n",
    "\n",
    "2. **Librería española:**\n",
    "  - Este mapeo es un poco más sutil que los otros dos, porque la relación $N$ a $M$ entre autores y publicaciones se guarda en una tabla auxiliar (`Persona_has_Publicacion`). Para transferir dicha relación, en primer lugar guardamos en un diccionario la relación `idPersona -> idAutor` al parsear las personas. Luego guardamos la relación `idPublicacion -> idLibro` al parsear los libros. Por último, mapeamos la tabla `Persona_has_Publicacion` a `Autor_has_Libro` usando ambos diccionarios.\n",
    "  - Perdemos los datos sobre roles.\n",
    "  - Concatenamos el nombre con los dos apellidos.\n",
    "  - Perdemos la `FechaNacimiento` de la persona.\n",
    "  - Perdemos el `Precio` y la `Lengua` de la publicación.\n",
    "  - No tenemos campo `isbn`, así que lo dejamos en blanco.\n",
    "\n",
    "3. **Librería americana:**\n",
    "  - Concatenamos el nombre con el apellido.\n",
    "  - No tenemos campo `fecha`, así que lo dejamos en blanco.\n",
    "  - Perdemos el `summary`.\n",
    "\n",
    "Como comentario, si se quiere se podría guardar el mapeo entre los `id`s (primary keys) origen y los destino de la misma manera que lo hemos hecho en el caso de la bd española, al mapear la relación `Persona_has_Publicacion` a `Autor_has_Libro`."
   ]
  },
  {
   "cell_type": "markdown",
   "metadata": {},
   "source": [
    "###  Idoneidad del esquema global propuesto"
   ]
  },
  {
   "cell_type": "markdown",
   "metadata": {},
   "source": [
    "Aunque el esquema global propuesto es más consistente que por ejemplo el británico o el americano, puede ser demasiado sencillo para recoger todos los datos de las fuentes. Perdemos mucha información en el mapeo, como precios, descripciones de los libros, fecha de nacimiento de los autores, roles, lengua en la que está escrita la publicación... Estos campos podrían estar presentes en la bd objetivo aunque en muchos casos quedaran vacíos, como pasa al mapear la bd española, que no tiene ISBN. De todos modos, esto sería más bien un modelo **Global-As-View**, que no es el fin de esta práctica.\n",
    "\n",
    "Por otra parte, no está muy claro si se trata de una base de datos de libros, publicaciones (artículos) o ambas. Podría hacerse esa distinción facilmente en la bd objetivo, por ejemplo usando dos tablas diferentes. Claro está, para esto es necesario que esa distinción esté presente en las fuentes."
   ]
  }
 ],
 "metadata": {
  "kernelspec": {
   "display_name": "Python 3",
   "language": "python",
   "name": "python3"
  },
  "language_info": {
   "codemirror_mode": {
    "name": "ipython",
    "version": 3
   },
   "file_extension": ".py",
   "mimetype": "text/x-python",
   "name": "python",
   "nbconvert_exporter": "python",
   "pygments_lexer": "ipython3",
   "version": "3.7.0"
  },
  "latex_envs": {
   "LaTeX_envs_menu_present": true,
   "autoclose": false,
   "autocomplete": true,
   "bibliofile": "biblio.bib",
   "cite_by": "apalike",
   "current_citInitial": 1,
   "eqLabelWithNumbers": true,
   "eqNumInitial": 1,
   "hotkeys": {
    "equation": "Ctrl-E",
    "itemize": "Ctrl-I"
   },
   "labels_anchors": false,
   "latex_user_defs": false,
   "report_style_numbering": false,
   "user_envs_cfg": false
  },
  "toc": {
   "base_numbering": 1,
   "nav_menu": {},
   "number_sections": true,
   "sideBar": true,
   "skip_h1_title": false,
   "title_cell": "Table of Contents",
   "title_sidebar": "Contents",
   "toc_cell": false,
   "toc_position": {},
   "toc_section_display": true,
   "toc_window_display": true
  }
 },
 "nbformat": 4,
 "nbformat_minor": 2
}
