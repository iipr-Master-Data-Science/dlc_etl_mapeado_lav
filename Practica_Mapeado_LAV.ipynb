{
 "cells": [
  {
   "cell_type": "markdown",
   "metadata": {},
   "source": [
    "# Práctica ETL - Mapeado de datos LAV\n",
    "\n",
    "- **Master in Data Science - UC, UIMP, CSIC.**\n",
    "- **Subject:** Data Life Cycle.\n",
    "- **Author:** Ignacio Iker Prado Rujas."
   ]
  },
  {
   "cell_type": "markdown",
   "metadata": {},
   "source": [
    "## Generación y preparación de las fuentes de datos"
   ]
  },
  {
   "cell_type": "markdown",
   "metadata": {},
   "source": [
    "Cargamos las librerías relevantes:"
   ]
  },
  {
   "cell_type": "code",
   "execution_count": 21,
   "metadata": {},
   "outputs": [],
   "source": [
    "import sqlite3\n",
    "import json\n",
    "from faker import Faker"
   ]
  },
  {
   "cell_type": "markdown",
   "metadata": {},
   "source": [
    "Creamos un Faker para cada una de las fuentes, de acuerdo a su país de procedencia:"
   ]
  },
  {
   "cell_type": "code",
   "execution_count": 24,
   "metadata": {},
   "outputs": [],
   "source": [
    "fake_UK = Faker('en_UK')\n",
    "fake_ES = Faker('es_ES')\n",
    "#fake_US = Faker('en_US')"
   ]
  },
  {
   "cell_type": "markdown",
   "metadata": {},
   "source": [
    "### Librería británica"
   ]
  },
  {
   "cell_type": "markdown",
   "metadata": {},
   "source": [
    "Generamos datos para la librería británica:"
   ]
  },
  {
   "cell_type": "code",
   "execution_count": 177,
   "metadata": {},
   "outputs": [],
   "source": [
    "!rm bookstore_UK.db"
   ]
  },
  {
   "cell_type": "code",
   "execution_count": 178,
   "metadata": {},
   "outputs": [
    {
     "name": "stdout",
     "output_type": "stream",
     "text": [
      "(0, 'Ergonomic composite capacity', 'Billy Sheppard', 'Davies, Kelly and Ford', 1988, '£4', '978-0-919598-88-1')\n",
      "(1, 'Integrated disintermediate toolset', 'Dr. Stacey Parker', 'Alexander, Smith and Fox', 2007, '£17', '978-1-69421-289-4')\n",
      "(2, 'Reactive asynchronous projection', 'Christian James', 'Wood Inc', 1999, '£25', '978-1-971405-35-3')\n"
     ]
    }
   ],
   "source": [
    "conn = sqlite3.connect('bookstore_UK.db')\n",
    "c = conn.cursor()\n",
    "\n",
    "# Creamos la tabla Book\n",
    "c.execute('''CREATE TABLE Book\n",
    "             (idBook integer primary key,\n",
    "              title text,\n",
    "              authors text, \n",
    "              publisher text, \n",
    "              year integer,\n",
    "              price text,\n",
    "              ISBN text)''')\n",
    "\n",
    "# Generamos valores con Faker\n",
    "fake_vals = []\n",
    "for i in range(100):\n",
    "    idBook = i\n",
    "    title = fake_UK.catch_phrase()\n",
    "    authors = fake_UK.name()\n",
    "    publisher = fake_UK.company()\n",
    "    year = fake_UK.year()\n",
    "    price = '£' + str(fake_UK.random_int(min=1, max=50))\n",
    "    ISBN = fake_UK.isbn13()\n",
    "    fake_vals.append([idBook, title, authors, publisher, year, price, ISBN])\n",
    "\n",
    "# Los introducimos en la base de datos\n",
    "c.executemany('''INSERT INTO Book (idBook, title, authors, publisher, year, price, ISBN)\n",
    "                 VALUES (?, ?, ?, ?, ?, ?, ?)''', fake_vals)\n",
    "\n",
    "# Miramos los primeros valores insertados\n",
    "c.execute('SELECT * FROM Book where idBook < 3;')\n",
    "for row in c.fetchall():\n",
    "    print(row)\n",
    "\n",
    "conn.commit()\n",
    "conn.close()"
   ]
  },
  {
   "cell_type": "markdown",
   "metadata": {},
   "source": [
    "### Librería española"
   ]
  },
  {
   "cell_type": "markdown",
   "metadata": {},
   "source": [
    "Ahora para la librería española:"
   ]
  },
  {
   "cell_type": "code",
   "execution_count": 344,
   "metadata": {},
   "outputs": [],
   "source": [
    "!rm bookstore_ES.db"
   ]
  },
  {
   "cell_type": "code",
   "execution_count": 345,
   "metadata": {},
   "outputs": [
    {
     "name": "stdout",
     "output_type": "stream",
     "text": [
      "Personas:\n",
      "(0, 'Trinidad', 'Miguel', 'Maria', '1947-03-08')\n",
      "(1, 'Cristian', 'del', 'Hurtado-Cadenas', '1893-05-26')\n",
      "(2, 'Jose', 'Silva-Prat', 'Campillo', '1895-10-23')\n",
      "Publicaciones:\n",
      "(0, 'Versatile zero-defect function', 'Checa-Barón', 'ta', '1986-12-25', '5€')\n",
      "(1, 'Reverse-engineered regional conglomeration', 'Gibert, Serrano and Rojas', 'bem', '2009-09-18', '11€')\n",
      "(2, 'Automated tertiary intranet', 'Paz PLC', 'id', '1951-12-29', '24€')\n",
      "Roles:\n",
      "(0, 'consequuntur')\n",
      "(1, 'cumque')\n",
      "(2, 'natus')\n",
      "Publicaciones de personas:\n",
      "(132, 8, 25)\n",
      "(159, 3, 11)\n"
     ]
    }
   ],
   "source": [
    "conn = sqlite3.connect('bookstore_ES.db')\n",
    "c = conn.cursor()\n",
    "\n",
    "# Creamos la tabla Persona\n",
    "c.execute('''CREATE TABLE Persona\n",
    "             (idPersona integer primary key,\n",
    "              Nombre text,\n",
    "              Apellido1 text, \n",
    "              Apellido2 text, \n",
    "              FechaNacimiento date)''')\n",
    "\n",
    "# Creamos la tabla Publicacion\n",
    "c.execute('''CREATE TABLE Publicacion\n",
    "             (idPublicacion integer primary key,\n",
    "              Titulo text,\n",
    "              Editorial text, \n",
    "              Lengua text, \n",
    "              FechaPublicacion date,\n",
    "              Precio float)''')\n",
    "\n",
    "# Creamos la tabla Persona_has_Pubicacion\n",
    "c.execute('''CREATE TABLE Persona_has_Publicacion\n",
    "             (Persona_idPersona integer,\n",
    "              Publicacion_idPublicacion integer,\n",
    "              Rol_idRol integer, \n",
    "              primary key(Persona_idPersona, \n",
    "                          Publicacion_idPublicacion))''')\n",
    "\n",
    "# Creamos la tabla Rol\n",
    "c.execute('''CREATE TABLE Rol\n",
    "             (idRol integer primary key,\n",
    "              rol text)''')\n",
    "\n",
    "# Generamos valores con Faker\n",
    "\n",
    "# Para Persona\n",
    "n = 200\n",
    "fake_vals = []\n",
    "for i in range(n):\n",
    "    idPersona = i\n",
    "    Nombre = fake_ES.name().split()[0]\n",
    "    Apellido1 = fake_ES.name().split()[1]\n",
    "    aux = fake_ES.name().split()[1]\n",
    "    Apellido2 = fake_ES.name().split()[1] if aux in ['el', 'del', 'de'] else aux\n",
    "    FechaNacimiento = str(fake_ES.date_between(end_date='today', start_date='-150y'))\n",
    "    fake_vals.append([idPersona, Nombre, Apellido1, Apellido2, FechaNacimiento])\n",
    "    \n",
    "c.executemany('''INSERT INTO Persona (idPersona, Nombre, Apellido1, Apellido2, FechaNacimiento)\n",
    "                 VALUES (?, ?, ?, ?, ?)''', fake_vals)\n",
    "\n",
    "# Para Publicacion\n",
    "\n",
    "fake_vals = []\n",
    "m = 300\n",
    "for i in range(m):\n",
    "    idPublicacion = i\n",
    "    Titulo = fake_ES.catch_phrase()\n",
    "    Editorial = fake_ES.company()\n",
    "    Lengua = fake_ES.language_code()\n",
    "    FechaPublicacion = str(fake_ES.date_between(end_date='today', start_date='-120y'))\n",
    "    Precio = str(fake_UK.random_int(min=1, max=50)) + '€'\n",
    "    fake_vals.append([idPublicacion, Titulo, Editorial, Lengua, FechaPublicacion, Precio])\n",
    "    \n",
    "c.executemany('''INSERT INTO Publicacion (idPublicacion, Titulo, Editorial, Lengua, FechaPublicacion, Precio)\n",
    "                 VALUES (?, ?, ?, ?, ?, ?)''', fake_vals)\n",
    "\n",
    "# Para Rol\n",
    "r = 30\n",
    "fake_vals = []\n",
    "for i in range(r):\n",
    "    idRol = i\n",
    "    Rol = fake_ES.word()\n",
    "    fake_vals.append([idRol, Rol])\n",
    "    \n",
    "c.executemany('''INSERT INTO Rol (idRol, Rol)\n",
    "                 VALUES (?, ?)''', fake_vals)\n",
    "\n",
    "# Para Persona_has_Publicacion\n",
    "fake_vals = []\n",
    "set_aux = set()\n",
    "for i in range(500):\n",
    "    Persona_idPersona = fake_ES.random_int(min=1, max=n)\n",
    "    Publicacion_idPublicacion = fake_ES.random_int(min=1, max=m)\n",
    "    while (Persona_idPersona, Publicacion_idPublicacion) in set_aux:\n",
    "        Persona_idPersona = fake_ES.random_int(min=1, max=n)\n",
    "        Publicacion_idPublicacion = fake_ES.random_int(min=1, max=m)\n",
    "    else:\n",
    "        set_aux.add((Persona_idPersona, Publicacion_idPublicacion))\n",
    "    Rol_idRol = fake_ES.random_int(min=1, max=r)\n",
    "    fake_vals.append([Persona_idPersona, Publicacion_idPublicacion, Rol_idRol])\n",
    "    \n",
    "c.executemany('''INSERT INTO Persona_has_Publicacion (Persona_idPersona, Publicacion_idPublicacion, Rol_idRol)\n",
    "                 VALUES (?, ?, ?)''', fake_vals)\n",
    "\n",
    "# Miramos los primeros valores insertados\n",
    "c.execute('SELECT * FROM Persona where idPersona < 3;')\n",
    "print('Personas:')\n",
    "for row in c.fetchall():\n",
    "    print(row)\n",
    "c.execute('SELECT * FROM Publicacion where idPublicacion < 3;')\n",
    "print('Publicaciones:')\n",
    "for row in c.fetchall():\n",
    "    print(row)\n",
    "c.execute('SELECT * FROM Rol where idRol < 3;')\n",
    "print('Roles:')\n",
    "for row in c.fetchall():\n",
    "    print(row)\n",
    "c.execute('SELECT * FROM Persona_has_Publicacion where Publicacion_idPublicacion in (3, 8);')\n",
    "print('Publicaciones de personas:')\n",
    "for row in c.fetchall():\n",
    "    print(row)\n",
    "\n",
    "conn.commit()\n",
    "conn.close()"
   ]
  },
  {
   "cell_type": "markdown",
   "metadata": {},
   "source": [
    "### Librería americana"
   ]
  },
  {
   "cell_type": "markdown",
   "metadata": {},
   "source": [
    "Cargamos los datos de la librería americana:  \n",
    "**Nota:** Para poder parsear el fichero de manera adecuada, fue necesario introducir comas entre cada elemento del `json`."
   ]
  },
  {
   "cell_type": "code",
   "execution_count": 352,
   "metadata": {},
   "outputs": [
    {
     "data": {
      "text/plain": [
       "{'index': 0,\n",
       " 'title': 'National kind probably later across against require can.',\n",
       " 'last_name': 'Hall',\n",
       " 'first_name': 'Debbie',\n",
       " 'publisher': 'Stewart Group',\n",
       " 'ISBN': '978-0-88280-857-4',\n",
       " 'summary': 'Exist change affect still consumer professional win audience. Responsibility generation picture.\\nStop team recently administration onto. Oil do their choice story work.\\nMost morning moment. Tell price grow decision technology one. Become people discussion machine than.\\nAllow fill direction safe physical main life. Hand town talk enter.\\nOut fast whether during simply. Option next performance sea PM.\\nParticularly according save blue. Road expect country before season sea.'}"
      ]
     },
     "execution_count": 352,
     "metadata": {},
     "output_type": "execute_result"
    }
   ],
   "source": [
    "with open('USA_books.json', encoding='utf-8') as f:\n",
    "    data = json.load(f)\n",
    "eval(str(data[0]))"
   ]
  },
  {
   "cell_type": "markdown",
   "metadata": {},
   "source": [
    "## Creación de la base de datos global"
   ]
  },
  {
   "cell_type": "code",
   "execution_count": 401,
   "metadata": {},
   "outputs": [],
   "source": [
    "!rm bookstore.db"
   ]
  },
  {
   "cell_type": "code",
   "execution_count": 402,
   "metadata": {},
   "outputs": [],
   "source": [
    "conn = sqlite3.connect('bookstore.db')\n",
    "c = conn.cursor()\n",
    "\n",
    "# Creamos la tabla Autor\n",
    "c.execute('''CREATE TABLE Autor\n",
    "             (idAutor integer primary key,\n",
    "              nombre text)''')\n",
    "\n",
    "# Creamos la tabla Libro\n",
    "c.execute('''CREATE TABLE Libro\n",
    "             (idLibro integer primary key,\n",
    "              titulo text,\n",
    "              editorial text, \n",
    "              fecha date,\n",
    "              isbn)''')\n",
    "\n",
    "# Creamos la tabla Autor_has_Libro\n",
    "c.execute('''CREATE TABLE Autor_has_Libro\n",
    "             (Autor_idAutor integer,\n",
    "              Libro_idLibro integer,\n",
    "              primary key(Autor_idAutor, \n",
    "                          Libro_idLibro))''')\n",
    "\n",
    "conn.commit()\n",
    "conn.close()"
   ]
  },
  {
   "cell_type": "markdown",
   "metadata": {},
   "source": [
    "## Proceso ETL"
   ]
  },
  {
   "cell_type": "code",
   "execution_count": 403,
   "metadata": {},
   "outputs": [],
   "source": [
    "def process_UK():\n",
    "    return\n",
    "\n",
    "conn_UK = sqlite3.connect('bookstore_UK.db')\n",
    "c_UK = conn_UK.cursor()\n",
    "conn = sqlite3.connect('bookstore.db')\n",
    "c = conn.cursor()\n",
    "\n",
    "idAutor = c.execute('select max(idAutor) from Autor').fetchall()[0][0]\n",
    "idAutor = 0 if idAutor is None else idAutor\n",
    "idLibro = c.execute('select max(idLibro) from Libro').fetchall()[0][0]\n",
    "idLibro = 0 if idLibro is None else idLibro\n",
    "\n",
    "c_UK.execute('SELECT * from Book;')\n",
    "for book in c_UK.fetchall():\n",
    "    # Extraemos la información útil\n",
    "    _, title, authors, publisher, year, _, ISBN = book\n",
    "    # Y la guardamos\n",
    "    c.execute('INSERT INTO Autor (idAutor, nombre) VALUES (?, ?)', \n",
    "              (idAutor, authors))\n",
    "    idAutor += 1\n",
    "    c.execute('INSERT INTO Libro (idLibro, titulo, editorial, fecha, isbn) VALUES (?, ?, ?, ?, ?)',\n",
    "               (idLibro, title, publisher, str(year)+'-01-01', ISBN))\n",
    "    idLibro += 1\n",
    "    c.execute('INSERT INTO Autor_has_Libro (Autor_idAutor, Libro_idLibro) VALUES (?, ?)',\n",
    "               (idAutor, idLibro))\n",
    "\n",
    "conn.commit()\n",
    "conn_UK.close()\n",
    "conn.close()"
   ]
  },
  {
   "cell_type": "code",
   "execution_count": 406,
   "metadata": {},
   "outputs": [
    {
     "name": "stdout",
     "output_type": "stream",
     "text": [
      "(0, 'Ergonomic composite capacity', 'Davies, Kelly and Ford', '1988-01-01', '978-0-919598-88-1')\n",
      "(1, 'Integrated disintermediate toolset', 'Alexander, Smith and Fox', '2007-01-01', '978-1-69421-289-4')\n",
      "(2, 'Reactive asynchronous projection', 'Wood Inc', '1999-01-01', '978-1-971405-35-3')\n",
      "(3, 'Operative disintermediate structure', 'Welch, Webster and Wood', '2011-01-01', '978-0-656-23382-3')\n",
      "(4, 'Stand-alone system-worthy capacity', 'Young, Patel and Jones', '2009-01-01', '978-1-4373-7326-4')\n",
      "(5, 'Devolved secondary core', 'Moss, Taylor and Taylor', '1970-01-01', '978-1-4486-3021-9')\n",
      "(6, 'Balanced static policy', 'Stokes LLC', '1985-01-01', '978-1-128-80316-2')\n",
      "(7, 'Robust well-modulated moratorium', 'Wallace PLC', '1982-01-01', '978-1-991189-37-0')\n",
      "(8, 'Switchable local task-force', 'Oliver, Haynes and Smith', '2012-01-01', '978-0-410-97830-4')\n",
      "(9, 'Networked content-based productivity', 'Burton, Morgan and Read', '1970-01-01', '978-1-04-185948-2')\n"
     ]
    }
   ],
   "source": [
    "conn = sqlite3.connect('bookstore.db')\n",
    "c = conn.cursor()\n",
    "c.execute('SELECT * FROM Libro where idLibro < 10;')\n",
    "for row in c.fetchall():\n",
    "    print(row)\n",
    "conn.close()"
   ]
  },
  {
   "cell_type": "code",
   "execution_count": null,
   "metadata": {},
   "outputs": [],
   "source": []
  }
 ],
 "metadata": {
  "kernelspec": {
   "display_name": "Python 3",
   "language": "python",
   "name": "python3"
  },
  "language_info": {
   "codemirror_mode": {
    "name": "ipython",
    "version": 3
   },
   "file_extension": ".py",
   "mimetype": "text/x-python",
   "name": "python",
   "nbconvert_exporter": "python",
   "pygments_lexer": "ipython3",
   "version": "3.7.0"
  },
  "latex_envs": {
   "LaTeX_envs_menu_present": true,
   "autoclose": false,
   "autocomplete": true,
   "bibliofile": "biblio.bib",
   "cite_by": "apalike",
   "current_citInitial": 1,
   "eqLabelWithNumbers": true,
   "eqNumInitial": 1,
   "hotkeys": {
    "equation": "Ctrl-E",
    "itemize": "Ctrl-I"
   },
   "labels_anchors": false,
   "latex_user_defs": false,
   "report_style_numbering": false,
   "user_envs_cfg": false
  },
  "toc": {
   "base_numbering": 1,
   "nav_menu": {},
   "number_sections": true,
   "sideBar": true,
   "skip_h1_title": false,
   "title_cell": "Table of Contents",
   "title_sidebar": "Contents",
   "toc_cell": false,
   "toc_position": {},
   "toc_section_display": true,
   "toc_window_display": true
  }
 },
 "nbformat": 4,
 "nbformat_minor": 2
}
